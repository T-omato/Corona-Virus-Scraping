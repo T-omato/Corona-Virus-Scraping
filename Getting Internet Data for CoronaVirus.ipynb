{
 "cells": [
  {
   "cell_type": "code",
   "execution_count": 38,
   "metadata": {
    "scrolled": false
   },
   "outputs": [
    {
     "ename": "TypeError",
     "evalue": "expected string or bytes-like object",
     "output_type": "error",
     "traceback": [
      "\u001b[1;31m---------------------------------------------------------------------------\u001b[0m",
      "\u001b[1;31mTypeError\u001b[0m                                 Traceback (most recent call last)",
      "\u001b[1;32m<ipython-input-38-a8406ef97a2f>\u001b[0m in \u001b[0;36m<module>\u001b[1;34m\u001b[0m\n\u001b[0;32m     78\u001b[0m     \u001b[0mline_count\u001b[0m \u001b[1;33m=\u001b[0m \u001b[1;36m0\u001b[0m\u001b[1;33m\u001b[0m\u001b[1;33m\u001b[0m\u001b[0m\n\u001b[0;32m     79\u001b[0m     \u001b[1;32mfor\u001b[0m \u001b[0mrow\u001b[0m \u001b[1;32min\u001b[0m \u001b[0mcsv_reader\u001b[0m\u001b[1;33m:\u001b[0m\u001b[1;33m\u001b[0m\u001b[1;33m\u001b[0m\u001b[0m\n\u001b[1;32m---> 80\u001b[1;33m         \u001b[0mmc\u001b[0m \u001b[1;33m=\u001b[0m \u001b[0mre\u001b[0m\u001b[1;33m.\u001b[0m\u001b[0msearch\u001b[0m\u001b[1;33m(\u001b[0m\u001b[1;34mr'(\\bP?province\\b)'\u001b[0m\u001b[1;33m,\u001b[0m \u001b[0mrow\u001b[0m\u001b[1;33m,\u001b[0m \u001b[0mflags\u001b[0m \u001b[1;33m=\u001b[0m \u001b[0mFLAGS\u001b[0m\u001b[1;33m)\u001b[0m\u001b[1;33m\u001b[0m\u001b[1;33m\u001b[0m\u001b[0m\n\u001b[0m\u001b[0;32m     81\u001b[0m         \u001b[0mms\u001b[0m \u001b[1;33m=\u001b[0m \u001b[0mre\u001b[0m\u001b[1;33m.\u001b[0m\u001b[0msearch\u001b[0m\u001b[1;33m(\u001b[0m\u001b[1;34mr'(\\bC?county\\b)'\u001b[0m\u001b[1;33m,\u001b[0m \u001b[0mrow\u001b[0m\u001b[1;33m,\u001b[0m \u001b[0mflags\u001b[0m \u001b[1;33m=\u001b[0m \u001b[0mFLAGS\u001b[0m\u001b[1;33m)\u001b[0m\u001b[1;33m\u001b[0m\u001b[1;33m\u001b[0m\u001b[0m\n\u001b[0;32m     82\u001b[0m         \u001b[1;32mif\u001b[0m \u001b[0mmc\u001b[0m\u001b[1;33m:\u001b[0m\u001b[1;33m\u001b[0m\u001b[1;33m\u001b[0m\u001b[0m\n",
      "\u001b[1;32m~\\Anaconda3\\lib\\re.py\u001b[0m in \u001b[0;36msearch\u001b[1;34m(pattern, string, flags)\u001b[0m\n\u001b[0;32m    181\u001b[0m     \"\"\"Scan through string looking for a match to the pattern, returning\n\u001b[0;32m    182\u001b[0m     a Match object, or None if no match was found.\"\"\"\n\u001b[1;32m--> 183\u001b[1;33m     \u001b[1;32mreturn\u001b[0m \u001b[0m_compile\u001b[0m\u001b[1;33m(\u001b[0m\u001b[0mpattern\u001b[0m\u001b[1;33m,\u001b[0m \u001b[0mflags\u001b[0m\u001b[1;33m)\u001b[0m\u001b[1;33m.\u001b[0m\u001b[0msearch\u001b[0m\u001b[1;33m(\u001b[0m\u001b[0mstring\u001b[0m\u001b[1;33m)\u001b[0m\u001b[1;33m\u001b[0m\u001b[1;33m\u001b[0m\u001b[0m\n\u001b[0m\u001b[0;32m    184\u001b[0m \u001b[1;33m\u001b[0m\u001b[0m\n\u001b[0;32m    185\u001b[0m \u001b[1;32mdef\u001b[0m \u001b[0msub\u001b[0m\u001b[1;33m(\u001b[0m\u001b[0mpattern\u001b[0m\u001b[1;33m,\u001b[0m \u001b[0mrepl\u001b[0m\u001b[1;33m,\u001b[0m \u001b[0mstring\u001b[0m\u001b[1;33m,\u001b[0m \u001b[0mcount\u001b[0m\u001b[1;33m=\u001b[0m\u001b[1;36m0\u001b[0m\u001b[1;33m,\u001b[0m \u001b[0mflags\u001b[0m\u001b[1;33m=\u001b[0m\u001b[1;36m0\u001b[0m\u001b[1;33m)\u001b[0m\u001b[1;33m:\u001b[0m\u001b[1;33m\u001b[0m\u001b[1;33m\u001b[0m\u001b[0m\n",
      "\u001b[1;31mTypeError\u001b[0m: expected string or bytes-like object"
     ]
    }
   ],
   "source": [
    "import re, xlwt, csv\n",
    "from selenium import webdriver\n",
    "from bs4 import BeautifulSoup\n",
    "import pandas as pd\n",
    "\n",
    "driver = webdriver.Chrome(\"C:\\\\\\\\Users\\\\\\\\pablo\\\\\\\\AppData\\\\\\\\Local\\\\\\\\Temp\\\\\\\\Rar$EXa0.843\\\\\\\\chromedriver.exe\")\n",
    "\n",
    "date = []\n",
    "cases = []\n",
    "deaths = []\n",
    "Country = [] \n",
    "Province = [] \n",
    "                          \n",
    "driver.get(\"https://bnonews.com/index.php/2020/01/timeline-coronavirus-epidemic/\")\n",
    "           \n",
    "content = driver.page_source\n",
    "soup = BeautifulSoup(content)\n",
    "\n",
    "h4_tag = str(soup.findAll('h4'))\n",
    "li_tag = str(soup.findAll('li'))\n",
    "\n",
    "FLAGS = re.VERBOSE | re.DOTALL | re.IGNORECASE\n",
    "\n",
    "newcase = open('C:\\\\Users\\\\pablo\\\\Documents\\\\Personal\\\\Programming\\\\Python\\\\newcase.csv','w')\n",
    "newdeath = open('C:\\\\Users\\\\pablo\\\\Documents\\\\Personal\\\\Programming\\\\Python\\\\newdeath.csv','w')\n",
    "newlocation = open('C:\\\\Users\\\\pablo\\\\Documents\\\\Personal\\\\Programming\\\\Python\\\\newlocation.csv','w')\n",
    "\n",
    "for li_tag in soup.findAll('li'):\n",
    "    \n",
    "    sentence = str(li_tag)\n",
    "    mo = re.search(r\"(First|\\d+) \\s+ (?: new \\s+)? cases?\", sentence, flags=FLAGS)\n",
    "    if mo:\n",
    "        cases = mo.group(1)\n",
    "        cases = int(cases) if cases.isdigit() else 1\n",
    "    else:\n",
    "        cases = 0\n",
    "    newcase.write(\"\\n\" + str(cases))\n",
    "    \n",
    "    mo = re.search(r\"(First|\\d+) \\s+ (?: new \\s+)? deaths?\", sentence, flags=FLAGS)\n",
    "    \n",
    "    if mo:\n",
    "        deaths = mo.group(1)\n",
    "        deaths = int(deaths) if deaths.isdigit() else 1\n",
    "    else:\n",
    "        deaths = 0\n",
    "    newdeath.write(\"\\n\" + str(deaths))\n",
    "    \n",
    "    mo = re.search(r'\\b(in\\s[A-Z]\\w+)\\b\\s?(:?[A-Z]\\w+)?,?\\s?(:?[A-Z]\\w+)?,?\\s?(:?[A-Z]\\w+)?,?\\s?(:?[A-Z]\\w+)?,?\\s?(:?[A-Z]\\w+)?,?\\s?(:?[A-Z]\\w+)?,?', sentence, flags = FLAGS)\n",
    "    \n",
    "    if mo:\n",
    "        Country = mo.group(0)\n",
    "        Country = str(Country)\n",
    "    else:\n",
    "        Country = 'No Country'\n",
    "    newlocation.write(\"\\n\" + Country)\n",
    "    \n",
    "\n",
    "newcase.close()\n",
    "newdeath.close()\n",
    "newlocation.close()\n",
    "\n",
    "dates = open('C:\\\\Users\\\\pablo\\\\Documents\\\\Personal\\\\Programming\\\\Python\\\\date.csv','w')   \n",
    "ul_tag = soup.find('div', attrs = {'id':'mvp-content-main'})\n",
    "current_h4 = ''\n",
    "\n",
    "for e in ul_tag:\n",
    "    if e.name == 'h4':\n",
    "        current_h4 = e.text\n",
    "    if e.name == 'ul':\n",
    "        for li in e.find_all('li'):\n",
    "            date = current_h4\n",
    "            dates.write(\"\\n\" + date)\n",
    "\n",
    "dates.close()\n",
    "\n",
    "\n",
    "\n"
   ]
  }
 ],
 "metadata": {
  "kernelspec": {
   "display_name": "Python 3",
   "language": "python",
   "name": "python3"
  },
  "language_info": {
   "codemirror_mode": {
    "name": "ipython",
    "version": 3
   },
   "file_extension": ".py",
   "mimetype": "text/x-python",
   "name": "python",
   "nbconvert_exporter": "python",
   "pygments_lexer": "ipython3",
   "version": "3.7.4"
  }
 },
 "nbformat": 4,
 "nbformat_minor": 2
}
